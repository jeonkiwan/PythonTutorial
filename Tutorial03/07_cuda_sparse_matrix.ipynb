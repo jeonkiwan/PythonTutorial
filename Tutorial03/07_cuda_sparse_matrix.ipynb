{
 "cells": [
  {
   "cell_type": "markdown",
   "metadata": {},
   "source": [
    "\n",
    "__Tutorial for CUDA programming using Python__\n",
    "==================================================\n",
    "\n",
    "## __Sparse matrix__\n",
    "\n",
    "* #### __csr_matrix: Compressed Sparse Row format__\n",
    "* #### csc_matrix: Compressed Sparse Column format\n",
    "* #### bsr_matrix: Block Sparse Row format\n",
    "* #### lil_matrix: List of Lists format\n",
    "* #### dok_matrix: Dictionary of Keys format\n",
    "* #### coo_matrix: COOrdinate format (aka IJV, triplet format)\n",
    "* #### dia_matrix: DIAgonal format\n",
    "* #### __(c.f.) ell_matrix: Ellapack format__ \n"
   ]
  },
  {
   "cell_type": "code",
   "execution_count": null,
   "metadata": {},
   "outputs": [],
   "source": [
    "# !pip install pycuda # install cuda"
   ]
  },
  {
   "cell_type": "code",
   "execution_count": null,
   "metadata": {},
   "outputs": [],
   "source": [
    "import os\n",
    "import numpy as np\n",
    "from time import time\n",
    "\n",
    "from scipy.sparse import csr_matrix\n",
    "from scipy.sparse.linalg import cg as sparse_cg"
   ]
  },
  {
   "cell_type": "markdown",
   "metadata": {},
   "source": [
    "### __load predefined matrix__"
   ]
  },
  {
   "cell_type": "code",
   "execution_count": null,
   "metadata": {},
   "outputs": [],
   "source": [
    "# # download matrix\n",
    "# !wget https://www.dropbox.com/s/7r2v6qq02ru8vpb/rectangle_032_csr_f64.matv?dl=0 -O rectangle_032_csr_f64.matv\n",
    "# !wget https://www.dropbox.com/s/yyeftikqpye4ksz/rectangle_032_csr_i32.mati?dl=0 -O rectangle_032_csr_i32.mati \n",
    "# !wget https://www.dropbox.com/s/iw7fmjnk346jya6/rectangle_032_csr_i32.matp?dl=0 -O rectangle_032_csr_i32.matp\n",
    "# !wget https://www.dropbox.com/s/vz0br0bxt04yyyt/rectangle_032_f64.sysr?dl=0 -O rectangle_032_f64.sysr    "
   ]
  },
  {
   "cell_type": "code",
   "execution_count": null,
   "metadata": {},
   "outputs": [],
   "source": [
    "# !wget https://www.dropbox.com/s/e0vxgccs1kjumc3/rectangle_256_csr_f64.matv?dl=0 -O rectangle_256_csr_f64.matv\n",
    "# !wget https://www.dropbox.com/s/17x5k3mfx14crye/rectangle_256_csr_i32.mati?dl=0 -O rectangle_256_csr_i32.mati \n",
    "# !wget https://www.dropbox.com/s/c7sgo4nm10z8o1v/rectangle_256_csr_i32.matp?dl=0 -O rectangle_256_csr_i32.matp\n",
    "# !wget https://www.dropbox.com/s/aa8re8jlpky8cym/rectangle_256_f64.sysr?dl=0 -O rectangle_256_f64.sysr"
   ]
  },
  {
   "cell_type": "code",
   "execution_count": null,
   "metadata": {},
   "outputs": [],
   "source": [
    "resolution = 256\n",
    "matv = np.fromfile('rectangle_{:03d}_csr_f64.matv'.format(resolution), dtype=np.float64)\n",
    "indices = np.fromfile('rectangle_{:03d}_csr_i32.mati'.format(resolution), dtype=np.int32)\n",
    "indptr = np.fromfile('rectangle_{:03d}_csr_i32.matp'.format(resolution), dtype=np.int32)\n",
    "b = np.fromfile('rectangle_{:03d}_f64.sysr'.format(resolution), dtype=np.float64)"
   ]
  },
  {
   "cell_type": "code",
   "execution_count": null,
   "metadata": {},
   "outputs": [],
   "source": [
    "num = len(indptr)-1\n",
    "print(num)\n",
    "A = csr_matrix((matv, indices, indptr), shape=(num, num))"
   ]
  },
  {
   "cell_type": "code",
   "execution_count": null,
   "metadata": {},
   "outputs": [],
   "source": [
    "# --- PyCUDA initialization\n",
    "import pycuda\n",
    "import pycuda.gpuarray as gpuarray\n",
    "import pycuda.driver as cuda\n",
    "import pycuda.autoinit\n",
    "from pycuda.compiler import SourceModule"
   ]
  },
  {
   "cell_type": "code",
   "execution_count": null,
   "metadata": {},
   "outputs": [],
   "source": [
    "src_mvker = \"\"\"\n",
    "\n",
    "__global__ void csr_dot(double* matv, int* indices, int* indptr, double *x, double *y, int NUM)\n",
    "{     \n",
    "    int k;\n",
    "    int strIdx;\n",
    "    int endIdx;\n",
    "    int tid = threadIdx.x+blockIdx.x*blockDim.x;\n",
    "\n",
    "    double apVal;\n",
    "    while(tid<NUM)\n",
    "    {\n",
    "        apVal = 0.0;\n",
    "        strIdx = indptr[tid];\n",
    "        endIdx = indptr[tid+1];\n",
    "\n",
    "        for(k=strIdx ; k<endIdx; k++)\n",
    "            apVal += matv[k]*x[indices[k]];\n",
    "        \n",
    "        y[tid] = apVal;\n",
    "        \n",
    "         /// passing\n",
    "        tid += blockDim.x*gridDim.x;\n",
    "    }\n",
    "}\n",
    "\"\"\""
   ]
  },
  {
   "cell_type": "code",
   "execution_count": null,
   "metadata": {},
   "outputs": [],
   "source": [
    "def nextpow2(x):  \n",
    "    return 1 if x == 0 else 2**(x - 1).bit_length()\n",
    "\n",
    "def getThreadsAndBlocks(kerId, num, maxBlocks, maxThreads):\n",
    "    if kerId < 3:\n",
    "        threads = nextpow2(num) if num < maxThreads else maxThreads\n",
    "        blocks = int((num + threads - 1) / threads)\n",
    "    else:\n",
    "        threads = nextpow2(int((num+1)/2)) if num < maxThreads else maxThreads \n",
    "        blocks = int((num + 2*2*threads -1) / (2*threads))\n",
    "    \n",
    "    if kerId == 6:\n",
    "        blocks = blocks if maxBlocks > blocks else maxBlocks\n",
    "\n",
    "    return threads, blocks"
   ]
  },
  {
   "cell_type": "markdown",
   "metadata": {},
   "source": [
    "### __cuda matrix-vector multiplication using pycuda__"
   ]
  },
  {
   "cell_type": "code",
   "execution_count": null,
   "metadata": {},
   "outputs": [],
   "source": [
    "# thread, blocks, shared memory size\n",
    "threads, blocks = getThreadsAndBlocks(6, num, 64, 512)\n",
    "smems = 2*threads*8 if threads <= 32 else threads*8\n",
    "print(threads, blocks, smems)\n",
    "\n",
    "print('kernel build')\n",
    "module = pycuda.compiler.SourceModule(source=src_mvker)\n",
    "\n",
    "dev_matv = pycuda.gpuarray.to_gpu(matv)\n",
    "dev_indices = pycuda.gpuarray.to_gpu(indices)\n",
    "dev_indptr = pycuda.gpuarray.to_gpu(indptr)\n",
    "dev_x = pycuda.gpuarray.to_gpu(b)\n",
    "dev_y = pycuda.gpuarray.to_gpu(np.zeros_like(b))\n",
    "\n",
    "# cuda compile ...\n",
    "dev_csr_dot = module.get_function(\"csr_dot\")\n",
    "\n",
    "# block and grid dimensions\n",
    "blockDim  = (threads, 1, 1)\n",
    "gridDim   = (blocks, 1, 1)\n",
    "\n",
    "# e_start.record()\n",
    "\n",
    "print('pycuda matrix vector multiplication')\n",
    "\n",
    "# ready ...\n",
    "dev_csr_dot(dev_matv, dev_indices, dev_indptr, dev_x, dev_y, np.int32(num), block=blockDim, grid=gridDim, shared=smems)\n",
    "\n",
    "t_start = time.time()\n",
    "nIter = 32\n",
    "for _ in range(nIter):\n",
    "    dev_csr_dot(dev_matv, dev_indices, dev_indptr, dev_x, dev_y, np.int32(num), block=blockDim, grid=gridDim, shared=smems)\n",
    "\n",
    "elapsed = time.time() - t_start\n",
    "\n",
    "print(\"Processing time = {:f}\".format(elapsed/nIter))\n"
   ]
  },
  {
   "cell_type": "markdown",
   "metadata": {},
   "source": [
    "### __matrix-vector multiplication using scipy (cpu)__"
   ]
  },
  {
   "cell_type": "code",
   "execution_count": null,
   "metadata": {},
   "outputs": [],
   "source": [
    "# ready ...\n",
    "A = csr_matrix((matv, indices, indptr), shape=(num, num))\n",
    "x = np.copy(b)\n",
    "\n",
    "y = A.dot(b)\n",
    "\n",
    "nIter = 32\n",
    "t_start = time.time()\n",
    "for _ in range(nIter):\n",
    "    y = A.dot(x)\n",
    "    \n",
    "elapsed = time.time() - t_start\n",
    "print('process time cpu = {:f}'.format(elapsed/nIter))\n"
   ]
  },
  {
   "cell_type": "markdown",
   "metadata": {},
   "source": [
    "### __cuda matrix-vector multiplication using cupy__"
   ]
  },
  {
   "cell_type": "code",
   "execution_count": null,
   "metadata": {},
   "outputs": [],
   "source": [
    "import cupy as cp\n",
    "from cupyx.scipy.sparse import csr_matrix as device_csr"
   ]
  },
  {
   "cell_type": "code",
   "execution_count": null,
   "metadata": {},
   "outputs": [],
   "source": [
    "dev_A = device_csr(A)\n",
    "dev_x = cp.array(b)\n",
    "\n",
    "dev_y = dev_A.dot(dev_x)\n",
    "\n",
    "nIter = 32\n",
    "t_start = time()\n",
    "for _ in range(nIter):\n",
    "    dev_y = dev_A.dot(dev_x)\n",
    "    \n",
    "elapsed = time() - t_start\n",
    "print('process time gpu = {:f}'.format(elapsed/nIter))"
   ]
  },
  {
   "cell_type": "markdown",
   "metadata": {},
   "source": [
    "### __comparison__"
   ]
  },
  {
   "cell_type": "code",
   "execution_count": null,
   "metadata": {},
   "outputs": [],
   "source": [
    "diff = y - (dev_y.get())\n",
    "print(diff)"
   ]
  },
  {
   "cell_type": "code",
   "execution_count": null,
   "metadata": {},
   "outputs": [],
   "source": [
    "np.linalg.norm(diff)"
   ]
  },
  {
   "cell_type": "code",
   "execution_count": null,
   "metadata": {},
   "outputs": [],
   "source": []
  }
 ],
 "metadata": {
  "kernelspec": {
   "display_name": "Python 3",
   "language": "python",
   "name": "python3"
  },
  "language_info": {
   "codemirror_mode": {
    "name": "ipython",
    "version": 3
   },
   "file_extension": ".py",
   "mimetype": "text/x-python",
   "name": "python",
   "nbconvert_exporter": "python",
   "pygments_lexer": "ipython3",
   "version": "3.8.8"
  }
 },
 "nbformat": 4,
 "nbformat_minor": 4
}
