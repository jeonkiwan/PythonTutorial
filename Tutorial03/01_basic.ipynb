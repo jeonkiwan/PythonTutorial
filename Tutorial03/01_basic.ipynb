{
 "cells": [
  {
   "cell_type": "markdown",
   "metadata": {},
   "source": [
    "__Tutorial for Scientific and Parallel Computing using Python__\n",
    "==============================================================="
   ]
  },
  {
   "cell_type": "markdown",
   "metadata": {},
   "source": [
    "### [파이썬](https://ko.wikipedia.org/wiki/%ED%8C%8C%EC%9D%B4%EC%8D%AC) (파이선? 파이쏜?)\n",
    "\n",
    "[파이썬](https://www.python.org/) (Python)은 1991년 프로그래머인 [귀도 반 로섬(Guido van Rossum)](https://www.google.com/search?client=firefox-b-d&q=guido+van+rossum)이 발표한 [고급 프로그래밍 언어](https://ko.wikipedia.org/wiki/%EA%B3%A0%EA%B8%89_%ED%94%84%EB%A1%9C%EA%B7%B8%EB%9E%98%EB%B0%8D_%EC%96%B8%EC%96%B4)로 플랫폼 독립적이며 인터프리터식, 객체지향적, [동적 타이핑(dynamically typed](https://stackoverflow.com/questions/1517582/what-is-the-difference-between-statically-typed-and-dynamically-typed-languages)) 대화형 언어이다. 파이썬이라는 이름은 귀도가 좋아하는 코미디 [<Monty Python's Flying Circus>](https://www.google.com/search?client=firefox-b-d&q=Monty+Python%27s+Flying+Circus)에서 따온 것이다.\n",
    "\n",
    "[Hey Guido~ !](https://www.google.com/search?q=guido+cars+movie&client=firefox-b-d&source=lnms&tbm=isch&sa=X&ved=0ahUKEwj24_OGv-_hAhUDUrwKHWnLCVMQ_AUIDigB&biw=1527&bih=1103)\n"
   ]
  },
  {
   "cell_type": "code",
   "execution_count": null,
   "metadata": {},
   "outputs": [],
   "source": [
    "print(\"hello world!\")"
   ]
  },
  {
   "cell_type": "markdown",
   "metadata": {},
   "source": [
    "## __Library Import__\n",
    "\n",
    "#### 파이선 사용을 위해서는 사용할 라이브러리를 불러오는 것을 먼저 실행해야 합니다. \n",
    "  * numpy \n",
    "    + object for matrix, verctor and their operations \n",
    "  * matplotlib\n",
    "    + visualization (2D plot)"
   ]
  },
  {
   "cell_type": "code",
   "execution_count": null,
   "metadata": {},
   "outputs": [],
   "source": [
    "import numpy as np"
   ]
  },
  {
   "cell_type": "code",
   "execution_count": null,
   "metadata": {},
   "outputs": [],
   "source": [
    "# try this !\n",
    "import this"
   ]
  },
  {
   "cell_type": "code",
   "execution_count": null,
   "metadata": {},
   "outputs": [],
   "source": [
    "a = np.zeros(16, dtype=np.float32)"
   ]
  },
  {
   "cell_type": "code",
   "execution_count": null,
   "metadata": {},
   "outputs": [],
   "source": [
    "a"
   ]
  },
  {
   "cell_type": "code",
   "execution_count": null,
   "metadata": {},
   "outputs": [],
   "source": [
    "# do not use ...\n",
    "for i in range(16):\n",
    "    a[i] = i"
   ]
  },
  {
   "cell_type": "code",
   "execution_count": null,
   "metadata": {},
   "outputs": [],
   "source": [
    "a.dtype"
   ]
  },
  {
   "cell_type": "code",
   "execution_count": null,
   "metadata": {},
   "outputs": [],
   "source": [
    "b = np.arange(1,17, dtype=np.float64)\n",
    "b"
   ]
  },
  {
   "cell_type": "code",
   "execution_count": null,
   "metadata": {},
   "outputs": [],
   "source": [
    "# print at ipython notebook \n",
    "b = b.astype(np.int32)"
   ]
  },
  {
   "cell_type": "code",
   "execution_count": null,
   "metadata": {},
   "outputs": [],
   "source": [
    "np.float32(b)"
   ]
  },
  {
   "cell_type": "code",
   "execution_count": null,
   "metadata": {},
   "outputs": [],
   "source": [
    "import matplotlib.pyplot as plt"
   ]
  },
  {
   "cell_type": "code",
   "execution_count": null,
   "metadata": {},
   "outputs": [],
   "source": [
    "fig, axes = plt.subplots(1, 2, figsize=(8, 4))\n",
    "ax = axes.flatten()\n",
    "ax[0].plot(a)\n",
    "ax[1].plot(b)"
   ]
  },
  {
   "cell_type": "markdown",
   "metadata": {},
   "source": [
    "#### __List__ ####"
   ]
  },
  {
   "cell_type": "code",
   "execution_count": null,
   "metadata": {},
   "outputs": [],
   "source": [
    "import time"
   ]
  },
  {
   "cell_type": "code",
   "execution_count": null,
   "metadata": {},
   "outputs": [],
   "source": [
    "num = 2**21\n",
    "\n",
    "t_start = time.time()\n",
    "\n",
    "c = []\n",
    "for i in range(num):\n",
    "    c.append(i)\n",
    "    \n",
    "elapsed = time.time() - t_start\n",
    "print('list {:f}'.format(elapsed))\n",
    "\n",
    "# import !\n",
    "t_start = time.time()\n",
    "\n",
    "c = [i for i in range(num)]\n",
    "\n",
    "elapsed = time.time() - t_start\n",
    "print('list {:f}'.format(elapsed))\n"
   ]
  },
  {
   "cell_type": "code",
   "execution_count": null,
   "metadata": {},
   "outputs": [],
   "source": [
    "c"
   ]
  },
  {
   "cell_type": "markdown",
   "metadata": {},
   "source": [
    "#### __List to Numpy__ ####"
   ]
  },
  {
   "cell_type": "code",
   "execution_count": null,
   "metadata": {},
   "outputs": [],
   "source": [
    "d = np.asarray(c)"
   ]
  },
  {
   "cell_type": "code",
   "execution_count": null,
   "metadata": {},
   "outputs": [],
   "source": [
    "list(d)"
   ]
  },
  {
   "cell_type": "markdown",
   "metadata": {},
   "source": [
    "#### __linspace (equi distance split)__ ####"
   ]
  },
  {
   "cell_type": "code",
   "execution_count": null,
   "metadata": {},
   "outputs": [],
   "source": [
    "x = np.linspace(0, np.pi, 16+1, endpoint=True)\n",
    "x"
   ]
  },
  {
   "cell_type": "code",
   "execution_count": null,
   "metadata": {},
   "outputs": [],
   "source": [
    "f = np.sin(x)"
   ]
  },
  {
   "cell_type": "code",
   "execution_count": null,
   "metadata": {},
   "outputs": [],
   "source": [
    "fig, ax = plt.subplots(figsize=(8, 6))\n",
    "ax.plot(x, f)"
   ]
  },
  {
   "cell_type": "markdown",
   "metadata": {},
   "source": [
    "#### __Interactive Plot__ ####"
   ]
  },
  {
   "cell_type": "code",
   "execution_count": null,
   "metadata": {},
   "outputs": [],
   "source": [
    "def get_graph(func):\n",
    "    def current_slice(idx):\n",
    "        x = np.linspace(0, 2*np.pi, 2**idx, endpoint=False)\n",
    "        fig, ax = plt.subplots(figsize=(4, 4))    \n",
    "        ax.plot(x, func(x))\n",
    "        ax.set_axis_off()\n",
    "        plt.show()\n",
    "        \n",
    "    return current_slice\n",
    "\n",
    "def sliceimageview(func):\n",
    "    from ipywidgets import IntSlider, interact\n",
    "    current_slice = get_graph(func)\n",
    "    step_slider = IntSlider(min=4, max=8, value=4)        \n",
    "    interact(current_slice, idx=step_slider)"
   ]
  },
  {
   "cell_type": "code",
   "execution_count": null,
   "metadata": {},
   "outputs": [],
   "source": [
    "sliceimageview(np.sin)"
   ]
  },
  {
   "cell_type": "code",
   "execution_count": null,
   "metadata": {},
   "outputs": [],
   "source": []
  }
 ],
 "metadata": {
  "kernelspec": {
   "display_name": "Python 3",
   "language": "python",
   "name": "python3"
  },
  "language_info": {
   "codemirror_mode": {
    "name": "ipython",
    "version": 3
   },
   "file_extension": ".py",
   "mimetype": "text/x-python",
   "name": "python",
   "nbconvert_exporter": "python",
   "pygments_lexer": "ipython3",
   "version": "3.8.3"
  }
 },
 "nbformat": 4,
 "nbformat_minor": 4
}
