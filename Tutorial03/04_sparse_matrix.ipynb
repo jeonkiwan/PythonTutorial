{
 "cells": [
  {
   "cell_type": "markdown",
   "metadata": {},
   "source": [
    "## __Sparse Linear System__\n",
    "\n",
    "#### module\n",
    "  * numpy \n",
    "    + object for matrix, verctor and their operations \n",
    "  * matplotlib\n",
    "    + visualization (2D plot)\n",
    "    "
   ]
  },
  {
   "cell_type": "markdown",
   "metadata": {},
   "source": [
    "\n",
    "\n",
    "#### sparse matrix format    \n",
    "\n",
    "* __csr_matrix: Compressed Sparse Row format__\n",
    "* csc_matrix: Compressed Sparse Column format\n",
    "* bsr_matrix: Block Sparse Row format\n",
    "* lil_matrix: List of Lists format\n",
    "* dok_matrix: Dictionary of Keys format\n",
    "* coo_matrix: COOrdinate format (aka IJV, triplet format)\n",
    "* dia_matrix: DIAgonal format\n",
    "* __(c.f.) ell_matrix: Ellapack format__ "
   ]
  },
  {
   "cell_type": "code",
   "execution_count": null,
   "metadata": {},
   "outputs": [],
   "source": [
    "import numpy as np\n",
    "from scipy.sparse import csr_matrix\n",
    "from scipy.sparse.linalg import cg as sparse_cg\n",
    "\n",
    "import matplotlib.pyplot as plt"
   ]
  },
  {
   "cell_type": "markdown",
   "metadata": {},
   "source": [
    "\n",
    "* csr_matrix(D)\n",
    "    + with a dense matrix or rank-2 ndarray D  \n",
    "\n",
    "* csr_matrix(S)\n",
    "    + with another sparse matrix S (equivalent to S.tocsr())  \n",
    "\n",
    "* csr_matrix((M, N), [dtype])\n",
    "    + to construct an empty matrix with shape (M, N) dtype is optional, defaulting to dtype=’d’.  \n",
    "\n",
    "* csr_matrix((data, (row_ind, col_ind)), [shape=(M, N)])\n",
    "    + where data, row_ind and col_ind satisfy the relationship a[row_ind[k], col_ind[k]] = data[k].  \n",
    "\n",
    "* __csr_matrix((data, indices, indptr), [shape=(M, N)])__\n",
    "    + is the standard CSR representation where the column indices for row i are stored in indices[indptr[i]:indptr[i+1]] and their corresponding values are stored in data[indptr[i]:indptr[i+1]]. If the shape parameter is not supplied, the matrix dimensions are inferred from the index arrays.\n",
    "\n",
    "\n"
   ]
  },
  {
   "cell_type": "markdown",
   "metadata": {},
   "source": [
    "#### Example"
   ]
  },
  {
   "cell_type": "code",
   "execution_count": null,
   "metadata": {},
   "outputs": [],
   "source": [
    "indptr = np.array([0, 2, 3, 6])\n",
    "indices = np.array([0, 2, 2, 0, 1, 2])\n",
    "data = np.array([1, 2, 3, 4, 5, 6])\n",
    "\n",
    "csr_matrix((data, indices, indptr), shape=(3, 3)).toarray()\n"
   ]
  },
  {
   "cell_type": "code",
   "execution_count": null,
   "metadata": {},
   "outputs": [],
   "source": [
    "N = 8\n",
    "h = 1/N"
   ]
  },
  {
   "cell_type": "code",
   "execution_count": null,
   "metadata": {},
   "outputs": [],
   "source": [
    "# implement own csr matrix for 1-D Laplase equation with zero dirichlet boundary\n",
    "# omit end point as boundary points\n",
    "# number of points of domain inside are N-1\n",
    "# 2 , 3*(N-3),  2\n",
    "\n",
    "# index pointer\n",
    "indptr = [0] + list(range(2, 2+3*(N-2), 3)) + [3*(N-2)+1]\n",
    "\n",
    "# indices\n",
    "indices = [[0, 1]] + [[k-1, k, k+1] for k in range(1, N-2)] + [[N-3, N-2]]\n",
    "indices = [v for ind in indices for v in ind]\n",
    "\n",
    "# data\n",
    "data = np.asarray([2, -1] + [-1, 2, -1]*(N-3) + [-1, 2])\n",
    "# data = [v for d in data for v in d]\n"
   ]
  },
  {
   "cell_type": "code",
   "execution_count": null,
   "metadata": {},
   "outputs": [],
   "source": [
    "A = csr_matrix((data, indices, indptr), shape=(N-1, N-1))# .toarray()\n",
    "A"
   ]
  },
  {
   "cell_type": "code",
   "execution_count": null,
   "metadata": {},
   "outputs": [],
   "source": [
    "b = np.ones(N-1)*(h**2)"
   ]
  },
  {
   "cell_type": "code",
   "execution_count": null,
   "metadata": {},
   "outputs": [],
   "source": [
    "u = np.zeros(N+1)"
   ]
  },
  {
   "cell_type": "code",
   "execution_count": null,
   "metadata": {},
   "outputs": [],
   "source": [
    "# index stride ...\n",
    "\n",
    "# conjugate gradient\n",
    "u[1:-1], ok = sparse_cg(A, b, tol=1.0e-8)\n",
    "\n",
    "# numpy.. not available ..\n",
    "# u[1:-1] = np.linalg.solve(A, b)"
   ]
  },
  {
   "cell_type": "code",
   "execution_count": null,
   "metadata": {},
   "outputs": [],
   "source": [
    "ok"
   ]
  },
  {
   "cell_type": "code",
   "execution_count": null,
   "metadata": {},
   "outputs": [],
   "source": [
    "x = np.linspace(0, 1, N+1, endpoint=True)"
   ]
  },
  {
   "cell_type": "code",
   "execution_count": null,
   "metadata": {},
   "outputs": [],
   "source": [
    "fig, ax = plt.subplots(figsize=(4,4))\n",
    "ax.plot(x, u)\n",
    "ax.plot(x, 0.5*x*(1-x))\n",
    "# ax.set_xlim(0.4, 0.6)\n",
    "# ax.set_ylim(0.11, 0.13)\n",
    "fig.tight_layout()"
   ]
  },
  {
   "cell_type": "code",
   "execution_count": null,
   "metadata": {},
   "outputs": [],
   "source": [
    "print('{:.5e}'.format(np.linalg.norm(u - 0.5*x*(1-x))))"
   ]
  },
  {
   "cell_type": "code",
   "execution_count": null,
   "metadata": {},
   "outputs": [],
   "source": [
    "def sparse_solve(b):\n",
    "    N = b.shape[0]-1\n",
    "    # index pointer\n",
    "    indptr = [0] + list(range(2, 2+3*(N-2), 3)) + [3*(N-2)+1]\n",
    "\n",
    "    # indices\n",
    "    indices = [[0, 1]] + [[k-1, k, k+1] for k in range(1, N-2)] + [[N-3, N-2]]\n",
    "    indices = [v for ind in indices for v in ind]\n",
    "\n",
    "    # data\n",
    "    data = np.asarray([2, -1] + [-1, 2, -1]*(N-3) + [-1, 2])\n",
    "    # data = [v for d in data for v in d]\n",
    "\n",
    "    A = csr_matrix((data, indices, indptr), shape=(N-1, N-1)).toarray()\n",
    "    u = np.zeros(N+1)\n",
    "    \n",
    "    # conjugate gradient\n",
    "    u[1:-1], ok = sparse_cg(A, b[1:-1], tol=1.0e-8)\n",
    "\n",
    "    return u"
   ]
  },
  {
   "cell_type": "code",
   "execution_count": null,
   "metadata": {},
   "outputs": [],
   "source": [
    "for i in range(14, 18):\n",
    "    N = 2**i\n",
    "    h = 1/N\n",
    "    \n",
    "    x_ = np.linspace(0, 1, N+1, endpoint=True)\n",
    "    \n",
    "    # u = sin(pi*x)\n",
    "    # repeat function implementation\n",
    "    b = np.pi*np.pi*np.sin(np.pi*x_)*h*h\n",
    "    u = sparse_solve(b)\n",
    "     \n",
    "    print('error: {:.8e}'.format(np.amax(np.abs(u-np.sin(np.pi*x_)))))"
   ]
  },
  {
   "cell_type": "code",
   "execution_count": null,
   "metadata": {},
   "outputs": [],
   "source": []
  }
 ],
 "metadata": {
  "kernelspec": {
   "display_name": "Python 3",
   "language": "python",
   "name": "python3"
  },
  "language_info": {
   "codemirror_mode": {
    "name": "ipython",
    "version": 3
   },
   "file_extension": ".py",
   "mimetype": "text/x-python",
   "name": "python",
   "nbconvert_exporter": "python",
   "pygments_lexer": "ipython3",
   "version": "3.8.3"
  }
 },
 "nbformat": 4,
 "nbformat_minor": 4
}
