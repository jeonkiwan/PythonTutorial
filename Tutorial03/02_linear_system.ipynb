{
 "cells": [
  {
   "cell_type": "markdown",
   "metadata": {},
   "source": [
    "## __Linear System__\n",
    "\n",
    "#### module\n",
    "  * numpy \n",
    "    + object for matrix, verctor and their operations \n",
    "  * scipy\n",
    "    + scientific computing library compatible with numpy\n",
    "    + sparse : sparse matrix library\n",
    "  * matplotlib\n",
    "    + visualization (2D plot)"
   ]
  },
  {
   "cell_type": "code",
   "execution_count": null,
   "metadata": {},
   "outputs": [],
   "source": [
    "import numpy as np\n",
    "import matplotlib.pyplot as plt"
   ]
  },
  {
   "cell_type": "code",
   "execution_count": null,
   "metadata": {},
   "outputs": [],
   "source": [
    "N = 16\n",
    "h = 1/N"
   ]
  },
  {
   "cell_type": "code",
   "execution_count": null,
   "metadata": {},
   "outputs": [],
   "source": [
    "A = np.zeros((N-1, N-1))"
   ]
  },
  {
   "cell_type": "code",
   "execution_count": null,
   "metadata": {},
   "outputs": [],
   "source": [
    "b = np.ones(N-1)*(h**2)"
   ]
  },
  {
   "cell_type": "code",
   "execution_count": null,
   "metadata": {},
   "outputs": [],
   "source": [
    "x,y = np.diag_indices(N-1)\n",
    "A[(x, y)] = 2.0\n",
    "A[(x[:-1]+1, y[:-1])] = -1\n",
    "A[(x[:-1]  , y[:-1]+1)] = -1"
   ]
  },
  {
   "cell_type": "code",
   "execution_count": null,
   "metadata": {},
   "outputs": [],
   "source": [
    "# A"
   ]
  },
  {
   "cell_type": "code",
   "execution_count": null,
   "metadata": {},
   "outputs": [],
   "source": [
    "u = np.zeros(N+1)"
   ]
  },
  {
   "cell_type": "code",
   "execution_count": null,
   "metadata": {},
   "outputs": [],
   "source": [
    "# index stride ...\n",
    "u[1:-1] = np.linalg.solve(A, b)"
   ]
  },
  {
   "cell_type": "code",
   "execution_count": null,
   "metadata": {},
   "outputs": [],
   "source": [
    "x = np.linspace(0, 1, N+1, endpoint=True)"
   ]
  },
  {
   "cell_type": "code",
   "execution_count": null,
   "metadata": {},
   "outputs": [],
   "source": [
    "fig, ax = plt.subplots(figsize=(4,4))\n",
    "ax.plot(x, u)\n",
    "ax.plot(x, 0.5*x*(1-x))\n",
    "fig.tight_layout()"
   ]
  },
  {
   "cell_type": "code",
   "execution_count": null,
   "metadata": {},
   "outputs": [],
   "source": [
    "for i in range(14, 18):\n",
    "    N = 2**i\n",
    "    h = 1/N\n",
    "    x_ = np.linspace(0, 1, N+1, endpoint=True)\n",
    "    \n",
    "    # u = sin(pi*x)\n",
    "    #\n",
    "    A = np.zeros((N-1, N-1))    \n",
    "    b = np.pi*np.pi*np.sin(np.pi*x_)*h*h\n",
    "    b = b[1:-1]\n",
    "        \n",
    "    x,y = np.diag_indices(N-1)\n",
    "    A[(x, y)] = 2.0\n",
    "    A[(x[:-1]+1, y[:-1])] = -1\n",
    "    A[(x[:-1]  , y[:-1]+1)] = -1\n",
    "    # \n",
    "    \n",
    "    u = np.zeros(N+1)\n",
    "    u[1:-1] = np.linalg.solve(A, b)\n",
    "    \n",
    "    \n",
    "    print('error: {:.8e}'.format(np.amax(np.abs(u-np.sin(np.pi*x_)))))"
   ]
  },
  {
   "cell_type": "code",
   "execution_count": null,
   "metadata": {},
   "outputs": [],
   "source": []
  }
 ],
 "metadata": {
  "kernelspec": {
   "display_name": "Python 3",
   "language": "python",
   "name": "python3"
  },
  "language_info": {
   "codemirror_mode": {
    "name": "ipython",
    "version": 3
   },
   "file_extension": ".py",
   "mimetype": "text/x-python",
   "name": "python",
   "nbconvert_exporter": "python",
   "pygments_lexer": "ipython3",
   "version": "3.8.3"
  }
 },
 "nbformat": 4,
 "nbformat_minor": 4
}
