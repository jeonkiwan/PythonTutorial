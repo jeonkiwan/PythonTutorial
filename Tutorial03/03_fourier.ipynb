{
 "cells": [
  {
   "cell_type": "markdown",
   "metadata": {},
   "source": [
    "## __Fourier__\n",
    "\n",
    "#### module\n",
    "  * numpy \n",
    "    + object for matrix, verctor and their operations \n",
    "    + fft library\n",
    "  * matplotlib\n",
    "    + visualization (2D plot)\n"
   ]
  },
  {
   "cell_type": "code",
   "execution_count": null,
   "metadata": {},
   "outputs": [],
   "source": [
    "import numpy as np\n",
    "import matplotlib.pyplot as plt\n",
    "from numpy.fft import fft, ifft"
   ]
  },
  {
   "cell_type": "code",
   "execution_count": null,
   "metadata": {},
   "outputs": [],
   "source": [
    "def get_graph(func, N):\n",
    "    def current_slice(idx):\n",
    "        x = np.linspace(0, 2*np.pi, N, endpoint=False)\n",
    "        fig, axes = plt.subplots(1, 2, figsize=(8, 4))\n",
    "        ax = axes.flatten()\n",
    "        ax[0].plot(x, func(idx*x))\n",
    "        ax[0].set_ylim(-1.1, 1.1)\n",
    "        ax[1].plot(np.real(fft(func(idx*x))))\n",
    "        ax[1].plot(np.imag(fft(func(idx*x))))\n",
    "        ax[1].set_ylim(-N, N)\n",
    "        # ax.set_axis_off()\n",
    "        plt.tight_layout()\n",
    "        # plt.show()\n",
    "        \n",
    "    return current_slice\n",
    "\n",
    "def slideview(func, N):\n",
    "    from ipywidgets import IntSlider, interact\n",
    "    current_slice = get_graph(func, N)\n",
    "    step_slider = IntSlider(min=0, max=N-1, value=0)        \n",
    "    interact(current_slice, idx=step_slider)"
   ]
  },
  {
   "cell_type": "code",
   "execution_count": null,
   "metadata": {},
   "outputs": [],
   "source": [
    "slideview(np.cos, 64)"
   ]
  },
  {
   "cell_type": "code",
   "execution_count": null,
   "metadata": {},
   "outputs": [],
   "source": [
    "N = 64\n",
    "x = np.linspace(0, 1, N, endpoint=False)\n",
    "f = -12*x**2 + 12*x - 2\n",
    "u_e = np.power(x*(1-x), 2)"
   ]
  },
  {
   "cell_type": "code",
   "execution_count": null,
   "metadata": {},
   "outputs": [],
   "source": [
    "F = fft(f)\n",
    "# ker = 2*N*sin(np.pi*np.arange(N)/N)\n",
    "# ker = np.multiple(ker, ker)\n",
    "ker = np.power(2*N*np.sin(np.pi*np.arange(N)/N), 2) \n",
    "ker[0] = 1\n",
    "U = np.divide(F, ker)\n",
    "U[0] = 0\n",
    "u = np.real(ifft(U))"
   ]
  },
  {
   "cell_type": "code",
   "execution_count": null,
   "metadata": {},
   "outputs": [],
   "source": [
    "fig, ax = plt.subplots(figsize=(4,4))\n",
    "ax.plot(u) # -u[0] #offset ...\n",
    "ax.plot(u_e)"
   ]
  },
  {
   "cell_type": "code",
   "execution_count": null,
   "metadata": {},
   "outputs": [],
   "source": [
    "# use function ...\n",
    "\n",
    "def pdebyfft(N, f, u_e):\n",
    "    \n",
    "    # implement here\n",
    "    \n",
    "    F = fft(f)\n",
    "    # ker = 2*N*sin(np.pi*np.arange(N)/N)\n",
    "    # ker = np.multiple(ker, ker)\n",
    "    ker = np.power(2*N*np.sin(np.pi*np.arange(N)/N), 2) \n",
    "    ker[0] = 1\n",
    "    U = np.divide(F, ker)\n",
    "    U[0] = 0\n",
    "    u = np.real(ifft(U)) \n",
    "    \n",
    "    # offset .. ?\n",
    "    u = u-u[0]\n",
    "        \n",
    "    return u\n",
    "    \n"
   ]
  },
  {
   "cell_type": "code",
   "execution_count": null,
   "metadata": {},
   "outputs": [],
   "source": [
    "for i in range(4, 9):\n",
    "    \n",
    "    N = 2**i\n",
    "    x = np.linspace(0, 1, N, endpoint=False)\n",
    "    f = -12*x**2 + 12*x - 2\n",
    "    u_e = np.power(x*(1-x), 2)\n",
    "    \n",
    "    u = pdebyfft(N, f, u_e)\n",
    "            \n",
    "    print('error : {:.4e}'.format(np.amax(u_e-u)))"
   ]
  },
  {
   "cell_type": "code",
   "execution_count": null,
   "metadata": {},
   "outputs": [],
   "source": []
  }
 ],
 "metadata": {
  "kernelspec": {
   "display_name": "Python 3",
   "language": "python",
   "name": "python3"
  },
  "language_info": {
   "codemirror_mode": {
    "name": "ipython",
    "version": 3
   },
   "file_extension": ".py",
   "mimetype": "text/x-python",
   "name": "python",
   "nbconvert_exporter": "python",
   "pygments_lexer": "ipython3",
   "version": "3.8.3"
  }
 },
 "nbformat": 4,
 "nbformat_minor": 4
}
