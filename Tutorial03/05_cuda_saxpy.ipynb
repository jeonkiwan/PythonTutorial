{
 "cells": [
  {
   "cell_type": "code",
   "execution_count": null,
   "metadata": {
    "id": "SYsPK0nOrE8O"
   },
   "outputs": [],
   "source": []
  },
  {
   "cell_type": "markdown",
   "metadata": {
    "id": "Pf1ffc32pOzV"
   },
   "source": [
    "__Tutorial for CUDA programming using Python__\n",
    "==================================================\n",
    "\n",
    "## Saxpy \n",
    "\n",
    "SAXPY stands for “Single-Precision A·X Plus Y”. "
   ]
  },
  {
   "cell_type": "code",
   "execution_count": null,
   "metadata": {
    "id": "fCZXivhhpvLl"
   },
   "outputs": [],
   "source": [
    "# !pip install pycuda # install cuda"
   ]
  },
  {
   "cell_type": "code",
   "execution_count": null,
   "metadata": {
    "id": "54OfzzEwrG6v"
   },
   "outputs": [],
   "source": [
    "# !nvidia-smi"
   ]
  },
  {
   "cell_type": "code",
   "execution_count": null,
   "metadata": {
    "id": "PUxT4SpWpOzX"
   },
   "outputs": [],
   "source": [
    "import os\n",
    "import time\n",
    "import numpy as np\n",
    "\n",
    "# --- PyCUDA initialization\n",
    "import pycuda\n",
    "import pycuda.gpuarray as gpuarray\n",
    "import pycuda.driver as cuda\n",
    "import pycuda.autoinit\n",
    "from pycuda.compiler import SourceModule"
   ]
  },
  {
   "cell_type": "code",
   "execution_count": null,
   "metadata": {
    "id": "S4ApVYhlpOzY"
   },
   "outputs": [],
   "source": [
    "def nextpow2(x):  \n",
    "    return 1 if x == 0 else 2**(x - 1).bit_length()\n",
    "\n",
    "def getThreadsAndBlocks(kerId, num, maxBlocks, maxThreads):\n",
    "    if kerId < 3:\n",
    "        threads = nextpow2(num) if num < maxThreads else maxThreads\n",
    "        blocks = int((num + threads - 1) / threads)\n",
    "    else:\n",
    "        threads = nextpow2(int((num+1)/2)) if num < maxThreads else maxThreads \n",
    "        blocks = int((num + 2*2*threads -1) / (2*threads))\n",
    "    \n",
    "    if kerId == 6:\n",
    "        blocks = blocks if maxBlocks > blocks else maxBlocks\n",
    "\n",
    "    return threads, blocks"
   ]
  },
  {
   "cell_type": "code",
   "execution_count": null,
   "metadata": {
    "id": "zgtSfzI9pOzZ"
   },
   "outputs": [],
   "source": [
    "src_saxpy = \"\"\"\n",
    "\n",
    "__global__ void saxpy(float* x, float a, float* y, int NUM)\n",
    "{\n",
    "    unsigned int tid = blockIdx.x*blockDim.x + threadIdx.x;\n",
    "    while(tid < NUM)\n",
    "    {\n",
    "        y[tid] = a * x[tid] + y[tid];\n",
    "        /// \n",
    "        tid += blockDim.x*gridDim.x;\n",
    "    }    \n",
    "}\n",
    "\"\"\""
   ]
  },
  {
   "cell_type": "code",
   "execution_count": null,
   "metadata": {
    "colab": {
     "base_uri": "https://localhost:8080/"
    },
    "id": "Mdvqoe3xpOzZ",
    "outputId": "bcbe7692-5bf8-432b-bdda-75cc56733e1f"
   },
   "outputs": [],
   "source": [
    "# e_start = pycuda.driver.Event()\n",
    "# e_stop = pycuda.driver.Event()\n",
    "\n",
    "N = 2**27\n",
    "\n",
    "# thread, blocks, shared memory size\n",
    "threads, blocks = getThreadsAndBlocks(1, N, 64, 64)\n",
    "smems = 2*threads*8 if threads <= 32 else threads*8\n",
    "print(threads, blocks, smems)"
   ]
  },
  {
   "cell_type": "code",
   "execution_count": null,
   "metadata": {
    "id": "0ll475y3pOza"
   },
   "outputs": [],
   "source": [
    "h_x = np.random.uniform(-1, 1, size=N).astype(np.float32)\n",
    "h_y = np.random.uniform(-1, 1, size=N).astype(np.float32)\n",
    "\n",
    "d_x = pycuda.gpuarray.to_gpu(h_x)\n",
    "d_y = pycuda.gpuarray.to_gpu(h_y)\n",
    "\n",
    "a = 2.0"
   ]
  },
  {
   "cell_type": "code",
   "execution_count": null,
   "metadata": {
    "colab": {
     "base_uri": "https://localhost:8080/"
    },
    "id": "6zDChEGupOza",
    "outputId": "99d13c2a-6a44-4deb-8316-d6a0e828e4a2"
   },
   "outputs": [],
   "source": [
    "# cuda compile ...\n",
    "print('kernel build')\n",
    "module = pycuda.compiler.SourceModule(source=src_saxpy)\n",
    "\n",
    "dev_saxpy = module.get_function(\"saxpy\")"
   ]
  },
  {
   "cell_type": "code",
   "execution_count": null,
   "metadata": {
    "colab": {
     "base_uri": "https://localhost:8080/"
    },
    "id": "GBIinXJ4pOza",
    "outputId": "36b903ac-44b0-4180-8e18-a56a4c3703c3"
   },
   "outputs": [],
   "source": [
    "# block and grid dimensions\n",
    "blockDim  = (threads, 1, 1)\n",
    "gridDim   = (blocks, 1, 1)\n",
    "\n",
    "# e_start.record()\n",
    "print('saxpy : gpu')\n",
    "t_start = time.time()\n",
    "dev_saxpy(d_x, np.float32(a), d_y, np.int32(N), block=blockDim, grid=gridDim)\n",
    "elapsed = time.time() - t_start\n",
    "\n",
    "# e_stop.record() \n",
    "# e_stop.synchronize()\n",
    "# which is better ?\n",
    "\n",
    "pycuda.driver.Context.synchronize()\n",
    "\n",
    "print(\"Processing time = {:f}\".format(elapsed))\n"
   ]
  },
  {
   "cell_type": "code",
   "execution_count": null,
   "metadata": {
    "colab": {
     "base_uri": "https://localhost:8080/"
    },
    "id": "IDxCoiGxroXa",
    "outputId": "7da67051-7b58-4a85-b358-b4edb941989a"
   },
   "outputs": [],
   "source": [
    "print('saxpy : cpu')\n",
    "t_start = time.time()\n",
    "\n",
    "h_y = h_x * a + h_y\n",
    "\n",
    "elapsed = time.time() - t_start\n",
    "print(\"Processing time = {:f}\".format(elapsed))"
   ]
  },
  {
   "cell_type": "code",
   "execution_count": null,
   "metadata": {
    "id": "SUyKABOHseFi"
   },
   "outputs": [],
   "source": []
  }
 ],
 "metadata": {
  "accelerator": "GPU",
  "colab": {
   "collapsed_sections": [],
   "name": "06_cuda_saxpy.ipynb",
   "provenance": [],
   "toc_visible": true
  },
  "kernelspec": {
   "display_name": "Python 3",
   "language": "python",
   "name": "python3"
  },
  "language_info": {
   "codemirror_mode": {
    "name": "ipython",
    "version": 3
   },
   "file_extension": ".py",
   "mimetype": "text/x-python",
   "name": "python",
   "nbconvert_exporter": "python",
   "pygments_lexer": "ipython3",
   "version": "3.8.8"
  }
 },
 "nbformat": 4,
 "nbformat_minor": 4
}
